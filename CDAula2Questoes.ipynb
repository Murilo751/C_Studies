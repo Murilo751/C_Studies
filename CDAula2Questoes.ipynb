{
  "nbformat": 4,
  "nbformat_minor": 0,
  "metadata": {
    "colab": {
      "provenance": [],
      "include_colab_link": true
    },
    "kernelspec": {
      "name": "python3",
      "display_name": "Python 3"
    },
    "language_info": {
      "name": "python"
    }
  },
  "cells": [
    {
      "cell_type": "markdown",
      "metadata": {
        "id": "view-in-github",
        "colab_type": "text"
      },
      "source": [
        "<a href=\"https://colab.research.google.com/github/Murilo751/C_Studies/blob/main/CDAula2Questoes.ipynb\" target=\"_parent\"><img src=\"https://colab.research.google.com/assets/colab-badge.svg\" alt=\"Open In Colab\"/></a>"
      ]
    },
    {
      "cell_type": "markdown",
      "source": [
        "### Facil"
      ],
      "metadata": {
        "id": "Jr-8Nn662gG4"
      }
    },
    {
      "cell_type": "markdown",
      "source": [
        "#### 📝 Atividade 1 – Reconhecimento de estruturas básicas em Python\n",
        "\n",
        "**Situação-problema**  \n",
        "Você foi contratado(a) como estagiário(a) em uma empresa de tecnologia e recebeu um pequeno script Python para análise. Seu supervisor quer saber se você compreende os elementos básicos do código.\n",
        "\n",
        "```python\n",
        "class Pessoa:\n",
        "    def __init__(self, nome, idade):\n",
        "        self.nome = nome\n",
        "        self.idade = idade\n",
        "\n",
        "    def apresentar(self):\n",
        "        print(f\"Olá, meu nome é {self.nome} e tenho {self.idade} anos.\")\n",
        "idade = 25\n",
        "p = Pessoa(\"Ana\", idade)\n",
        "p.apresentar()\n",
        "```\n",
        "**Questão:**\n",
        "\n",
        "Com base no script acima, assinale a alternativa correta:\n",
        "\n",
        "A) O método `__init__` é chamado manualmente fora da classe para inicializar os atributos.  \n",
        "B) O script apresenta erro, pois a função `print` está dentro da classe.  \n",
        "C) O objeto `p` está utilizando a classe `Pessoa` para acessar o método `apresentar`.  \n",
        "D) A variável `p` é uma função e não pode usar métodos da classe.  \n",
        "E) O atributo `idade` está declarado fora da classe, o que causa erro de execução.  \n",
        "\n",
        "\n",
        "#### 📝 Atividade 2 – Estruturas de decisão em Python\n",
        "\n",
        "**Situação-problema**  \n",
        "Um analista júnior desenvolveu um código para classificar a faixa etária de usuários com base em suas idades.\n",
        "\n",
        "```python\n",
        "idade = 17\n",
        "\n",
        "if idade < 12:\n",
        "    print(\"Criança\")\n",
        "elif idade <= 17:\n",
        "    print(\"Adolescente\")\n",
        "else:\n",
        "    print(\"Adulto\")\n",
        "\n",
        "```\n",
        "**Questão:**  \n",
        "Sobre esse código e seu funcionamento, analise as afirmativas:\n",
        "\n",
        "**I.** O código utiliza estruturas condicionais para classificar a idade do usuário.  \n",
        "**II.** A instrução `elif` é usada para verificar uma nova condição quando o `if` não é satisfeito.  \n",
        "**III.** O resultado impresso será \"Adulto\", pois 17 se encaixa na condição `idade <= 17`.  \n",
        "**IV.** Se a variável `idade` fosse igual a 10, a saída seria \"Adolescente\".  \n",
        "**V.** A estrutura `else` é executada apenas quando nenhuma das condições anteriores é verdadeira.\n",
        "\n",
        "**Assinale a alternativa correta:**\n",
        "\n",
        "**A)** Estão corretas apenas I, II e III.  \n",
        "**B)** Estão corretas apenas II, III e V.  \n",
        "**C)** Estão corretas apenas I, III e IV.  \n",
        "**D)** Estão corretas apenas I, II e V.  \n",
        "**E)** Estão corretas apenas III, IV e V.   \n",
        "\n",
        "---"
      ],
      "metadata": {
        "id": "55JzhcdP2jwM"
      }
    },
    {
      "cell_type": "code",
      "source": [],
      "metadata": {
        "id": "P7AKGZKt3SZi"
      },
      "execution_count": null,
      "outputs": []
    },
    {
      "cell_type": "markdown",
      "source": [
        "### Medio"
      ],
      "metadata": {
        "id": "2OPV_0w33UWj"
      }
    },
    {
      "cell_type": "markdown",
      "source": [
        "A analista Joana está em fase de treinamento e deseja entender melhor como seu desempenho é classificado no sistema interno da empresa. Observe o seguinte trecho de código:\n",
        "\n",
        "```python\n",
        "relatorios_entregues = 1\n",
        "\n",
        "if relatorios_entregues <= 2:\n",
        "    print(\"Em treinamento\")\n",
        "elif relatorios_entregues <= 5:\n",
        "    print(\"Desempenho regular\")\n",
        "else:\n",
        "    print(\"Desempenho excelente\")\n",
        "```\n",
        "**Questão:**\n",
        "\n",
        "Com base nesse trecho e considerando a lógica condicional empregada, assinale a alternativa correta:\n",
        "\n",
        "A) A saída será \"Em treinamento\", pois 1 se enquandra na condição `if`.  \n",
        "B) A saída será \"Desempenho regular\", pois 1 relatório se enquadra na condição do `elif`.  \n",
        "C) A saída será \"Desempenho excelente\", pois relatorios_entregues não se enquadra nas condições.  \n",
        "D) O código apresenta erro, pois não há condição `elif` em Python.  \n",
        "E) A variável `relatorios_entregues` não é compatível com a estrutura condicional.  \n",
        "\n",
        "---\n",
        "\n",
        "\n",
        "#### 📝 **Questão 2**\n",
        "\n",
        "Considere a seguinte definição da classe `Analista`:\n",
        "\n",
        "```python\n",
        "class Analista:\n",
        "    def __init__(self, nome, setor, projetos):\n",
        "        self.nome = nome\n",
        "        self.setor = setor\n",
        "        self.projetos = projetos\n",
        "\n",
        "    def apresentar(self):\n",
        "        print(f\"Olá, meu nome é {self.nome} e trabalho no setor de {self.setor}.\")\n",
        "\n",
        "    def adicionar_projeto(self, projeto):\n",
        "        self.projetos.append(projeto)\n",
        "        print(f\"Projeto '{projeto}' adicionado com sucesso!\")\n",
        "```\n",
        "\n",
        "E criação de objeto:\n",
        "```python\n",
        "a = Analista(\"Joana\", \"Dados\", [])\n",
        "a.adicionar_projeto(\"Análise de Vendas Q1\")\n",
        "a.adicionar_projeto(\"Relatório de Clientes Ativos\")\n",
        "```\n",
        "**Questão:**\n",
        "\n",
        "Assinale a alternativa correta sobre o comportamento do método `adicionar_projeto`:\n",
        "\n",
        "A) O método imprime o nome do projeto, mas não armazena o valor na lista.  \n",
        "B) O método sobrescreve a lista de projetos a cada chamada.  \n",
        "C) O método adiciona os projetos na lista interna `projetos` do objeto `a`.  \n",
        "D) O método só funciona se a lista de projetos for inicializada com valores.  \n",
        "E) O método `adicionar_projeto` não pode ser chamado diretamente fora da classe.  \n",
        "\n",
        "---\n",
        "\n",
        "#### 📝 **Questão 3**\n",
        "\n",
        "Considere a seguinte definição da classe `Analista`:\n",
        "\n",
        "```python\n",
        "class Analista:\n",
        "    def __init__(self, nome, setor, projetos):\n",
        "        self.nome = nome\n",
        "        self.setor = setor\n",
        "        self.projetos = projetos\n",
        "\n",
        "    def apresentar(self):\n",
        "        print(f\"Olá, meu nome é {self.nome} e trabalho no setor de {self.setor}.\")\n",
        "\n",
        "    def adicionar_projeto(self, projeto):\n",
        "        self.projetos.append(projeto)\n",
        "        print(f\"Projeto '{projeto}' adicionado com sucesso!\")\n",
        "```\n",
        "\n",
        "E criação de objeto:\n",
        "```python\n",
        "a = Analista(\"Joana\", \"Dados\", \"Projetos\")\n",
        "a.adicionar_projeto(\"Análise de Vendas Q1\")\n",
        "a.adicionar_projeto(\"Relatório de Clientes Ativos\")\n",
        "```\n",
        "**Questão:**\n",
        "Com base no código acima, o que ocorrerá ao tentar adicionar projetos ao objeto a?"
      ],
      "metadata": {
        "id": "7ourwvVA4D6Z"
      }
    },
    {
      "cell_type": "code",
      "source": [],
      "metadata": {
        "id": "V7JLbzQf3V_C"
      },
      "execution_count": null,
      "outputs": []
    }
  ]
}