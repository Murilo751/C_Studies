{
  "nbformat": 4,
  "nbformat_minor": 0,
  "metadata": {
    "colab": {
      "provenance": [],
      "include_colab_link": true
    },
    "kernelspec": {
      "name": "python3",
      "display_name": "Python 3"
    },
    "language_info": {
      "name": "python"
    }
  },
  "cells": [
    {
      "cell_type": "markdown",
      "metadata": {
        "id": "view-in-github",
        "colab_type": "text"
      },
      "source": [
        "<a href=\"https://colab.research.google.com/github/Murilo751/C_Studies/blob/main/CDAula2atividade.ipynb\" target=\"_parent\"><img src=\"https://colab.research.google.com/assets/colab-badge.svg\" alt=\"Open In Colab\"/></a>"
      ]
    },
    {
      "cell_type": "markdown",
      "source": [
        "### Fácil"
      ],
      "metadata": {
        "id": "8lC94YNdxRQb"
      }
    },
    {
      "cell_type": "code",
      "execution_count": 1,
      "metadata": {
        "colab": {
          "base_uri": "https://localhost:8080/",
          "height": 106
        },
        "id": "LMD-P2pvvIeT",
        "outputId": "30fa54e6-6019-47ca-ccc1-56dc3d91a4d9"
      },
      "outputs": [
        {
          "output_type": "error",
          "ename": "SyntaxError",
          "evalue": "invalid syntax (ipython-input-3915924014.py, line 2)",
          "traceback": [
            "\u001b[0;36m  File \u001b[0;32m\"/tmp/ipython-input-3915924014.py\"\u001b[0;36m, line \u001b[0;32m2\u001b[0m\n\u001b[0;31m    nome = ##TODO: coloque aqui um nome como \"Maria\"\u001b[0m\n\u001b[0m           ^\u001b[0m\n\u001b[0;31mSyntaxError\u001b[0m\u001b[0;31m:\u001b[0m invalid syntax\n"
          ]
        }
      ],
      "source": [
        "# TODO: declare as variáveis nome e idade com seus respectivos valores\n",
        "nome = ##TODO: coloque aqui um nome como \"Maria\"\n",
        "idade = ##TODO: coloque aqui uma idade como 20\n",
        "\n",
        "print(\"Nome:\", nome)\n",
        "print(\"Idade:\", idade)\n"
      ]
    },
    {
      "cell_type": "code",
      "source": [
        "# TODO: Use if, elif e else para verificar a idade e imprimir uma mensagem\n",
        "\n",
        "## Regras:\n",
        "# Se idade < 12 → \"Criança\"\n",
        "# Se idade entre 12 e 17 → \"Adolescente\"\n",
        "# Se idade >= 18 → \"Adulto\"\n",
        "\n",
        "idade = ##TODO: escolha uma idade para testar, ex: 15\n",
        "\n",
        "##TODO: escreva as estruturas condicionais abaixo\n",
        "\n",
        "## exemplo:\n",
        "# if idade < 12:\n",
        "#     print(\"Criança\")\n"
      ],
      "metadata": {
        "colab": {
          "base_uri": "https://localhost:8080/",
          "height": 106
        },
        "id": "dDcnVBLwvRX2",
        "outputId": "12e0dc01-30cb-4c67-9ee9-3614f60682a3"
      },
      "execution_count": null,
      "outputs": [
        {
          "output_type": "error",
          "ename": "SyntaxError",
          "evalue": "invalid syntax (ipython-input-4046114281.py, line 8)",
          "traceback": [
            "\u001b[0;36m  File \u001b[0;32m\"/tmp/ipython-input-4046114281.py\"\u001b[0;36m, line \u001b[0;32m8\u001b[0m\n\u001b[0;31m    idade = ##TODO: escolha uma idade para testar, ex: 15\u001b[0m\n\u001b[0m            ^\u001b[0m\n\u001b[0;31mSyntaxError\u001b[0m\u001b[0;31m:\u001b[0m invalid syntax\n"
          ]
        }
      ]
    },
    {
      "cell_type": "code",
      "source": [
        "# TODO: Use if, elif e else para verificar a idade e imprimir uma mensagem\n",
        "\n",
        "## Regras:\n",
        "# Se idade < 12 → \"Criança\"\n",
        "# Se idade entre 12 e 17 → \"Adolescente\"\n",
        "# Se idade >= 18 → \"Adulto\"\n",
        "\n",
        "idade = ##TODO: escolha uma idade para testar, ex: 15\n",
        "\n",
        "##TODO: escreva as estruturas condicionais abaixo\n",
        "\n",
        "## exemplo:\n",
        "# if idade < 12:\n",
        "#     print(\"Criança\")\n"
      ],
      "metadata": {
        "colab": {
          "base_uri": "https://localhost:8080/",
          "height": 106
        },
        "id": "6sRLKv6-vS7z",
        "outputId": "b6d430ee-60fb-421e-fe6d-08a3071bfab6"
      },
      "execution_count": null,
      "outputs": [
        {
          "output_type": "error",
          "ename": "SyntaxError",
          "evalue": "invalid syntax (ipython-input-4046114281.py, line 8)",
          "traceback": [
            "\u001b[0;36m  File \u001b[0;32m\"/tmp/ipython-input-4046114281.py\"\u001b[0;36m, line \u001b[0;32m8\u001b[0m\n\u001b[0;31m    idade = ##TODO: escolha uma idade para testar, ex: 15\u001b[0m\n\u001b[0m            ^\u001b[0m\n\u001b[0;31mSyntaxError\u001b[0m\u001b[0;31m:\u001b[0m invalid syntax\n"
          ]
        }
      ]
    },
    {
      "cell_type": "code",
      "source": [
        "# TODO: Crie uma lista de frutas e use um for com range para imprimir os itens\n",
        "\n",
        "frutas = ##TODO: crie uma lista com pelo menos 3 frutas, ex: [\"maçã\", \"banana\", \"uva\"]\n",
        "\n",
        "##TODO: use um for com range(len(frutas)) para imprimir cada fruta com índice\n",
        "\n",
        "# Exemplo de saída:\n",
        "# Fruta 0: maçã\n"
      ],
      "metadata": {
        "colab": {
          "base_uri": "https://localhost:8080/",
          "height": 106
        },
        "id": "wQj9z6lFvUYp",
        "outputId": "020532f1-ea9d-4b2b-f1f0-1640e2b96306"
      },
      "execution_count": null,
      "outputs": [
        {
          "output_type": "error",
          "ename": "SyntaxError",
          "evalue": "invalid syntax (ipython-input-3630860512.py, line 3)",
          "traceback": [
            "\u001b[0;36m  File \u001b[0;32m\"/tmp/ipython-input-3630860512.py\"\u001b[0;36m, line \u001b[0;32m3\u001b[0m\n\u001b[0;31m    frutas = ##TODO: crie uma lista com pelo menos 3 frutas, ex: [\"maçã\", \"banana\", \"uva\"]\u001b[0m\n\u001b[0m             ^\u001b[0m\n\u001b[0;31mSyntaxError\u001b[0m\u001b[0;31m:\u001b[0m invalid syntax\n"
          ]
        }
      ]
    },
    {
      "cell_type": "code",
      "source": [
        "# TODO: Use um laço while para contar de 1 até 5\n",
        "\n",
        "contador = ##TODO: inicialize o contador com 1\n",
        "\n",
        "##TODO: escreva um laço while que imprima os valores até 5\n"
      ],
      "metadata": {
        "colab": {
          "base_uri": "https://localhost:8080/",
          "height": 106
        },
        "id": "mh3MA-mIvWBD",
        "outputId": "17fe098c-28c5-4d63-fc03-818f5d0a5709"
      },
      "execution_count": null,
      "outputs": [
        {
          "output_type": "error",
          "ename": "SyntaxError",
          "evalue": "invalid syntax (ipython-input-2160867290.py, line 3)",
          "traceback": [
            "\u001b[0;36m  File \u001b[0;32m\"/tmp/ipython-input-2160867290.py\"\u001b[0;36m, line \u001b[0;32m3\u001b[0m\n\u001b[0;31m    contador = ##TODO: inicialize o contador com 1\u001b[0m\n\u001b[0m               ^\u001b[0m\n\u001b[0;31mSyntaxError\u001b[0m\u001b[0;31m:\u001b[0m invalid syntax\n"
          ]
        }
      ]
    },
    {
      "cell_type": "code",
      "source": [
        "# TODO: Crie uma classe chamada Pessoa com os atributos nome e idade\n",
        "# e um método chamado apresentar() que imprime: \"Olá, meu nome é X e tenho Y anos.\"\n",
        "\n",
        "##TODO: declare a classe Pessoa e implemente o método apresentar\n",
        "\n",
        "# Exemplo de uso:\n",
        "# p = Pessoa(\"João\", 30)\n",
        "# p.apresentar()\n"
      ],
      "metadata": {
        "id": "9jjUdH1vvXxR"
      },
      "execution_count": null,
      "outputs": []
    },
    {
      "cell_type": "code",
      "source": [],
      "metadata": {
        "id": "Rsdhi6uLvZLB"
      },
      "execution_count": null,
      "outputs": []
    },
    {
      "cell_type": "markdown",
      "source": [
        "### Medio"
      ],
      "metadata": {
        "id": "2Iuxj9X0xUgH"
      }
    },
    {
      "cell_type": "code",
      "source": [
        "# TODO: Declare as variáveis que representam o nome do analista, o setor onde trabalha, e o número de relatórios que ele já produziu.\n",
        "\n",
        "nome_analista = ##TODO: Ex: \"Joana\"\n",
        "setor = ##TODO: Ex: \"Inteligência de Mercado\"\n",
        "relatorios_entregues = ##TODO: Ex: 5\n",
        "\n",
        "print(f\"Olá, {nome_analista}! Você está alocada no setor de {setor} e já entregou {relatorios_entregues} relatórios.\")\n"
      ],
      "metadata": {
        "colab": {
          "base_uri": "https://localhost:8080/",
          "height": 106
        },
        "id": "rSuqA2jAxWMK",
        "outputId": "764dc86f-9d16-4bd6-eef3-77be64f3ae80"
      },
      "execution_count": null,
      "outputs": [
        {
          "output_type": "error",
          "ename": "SyntaxError",
          "evalue": "invalid syntax (ipython-input-2466866154.py, line 3)",
          "traceback": [
            "\u001b[0;36m  File \u001b[0;32m\"/tmp/ipython-input-2466866154.py\"\u001b[0;36m, line \u001b[0;32m3\u001b[0m\n\u001b[0;31m    nome_analista = ##TODO: Ex: \"Joana\"\u001b[0m\n\u001b[0m                    ^\u001b[0m\n\u001b[0;31mSyntaxError\u001b[0m\u001b[0;31m:\u001b[0m invalid syntax\n"
          ]
        }
      ]
    },
    {
      "cell_type": "code",
      "source": [
        "# TODO: Use estruturas condicionais para classificar o desempenho do analista com base na quantidade de relatórios entregues.\n",
        "\n",
        "# Regras:\n",
        "# 0 a 2 → \"Em treinamento\"\n",
        "# 3 a 5 → \"Desempenho regular\"\n",
        "# Acima de 5 → \"Desempenho excelente\"\n",
        "\n",
        "##DICA: use if, elif, else\n",
        "\n",
        "if ##TODO:\n",
        "    print(\"Em treinamento\")\n",
        "elif ##TODO:\n",
        "    print(\"Desempenho regular\")\n",
        "else:\n",
        "    ##TODO: Imprima a mensagem de desempenho excelente\n"
      ],
      "metadata": {
        "colab": {
          "base_uri": "https://localhost:8080/",
          "height": 106
        },
        "id": "DRNVZMbPxZ7N",
        "outputId": "3adb6f66-8ba8-42ef-83f6-b7b4720bac7d"
      },
      "execution_count": null,
      "outputs": [
        {
          "output_type": "error",
          "ename": "SyntaxError",
          "evalue": "invalid syntax (ipython-input-1802574597.py, line 10)",
          "traceback": [
            "\u001b[0;36m  File \u001b[0;32m\"/tmp/ipython-input-1802574597.py\"\u001b[0;36m, line \u001b[0;32m10\u001b[0m\n\u001b[0;31m    if ##TODO:\u001b[0m\n\u001b[0m       ^\u001b[0m\n\u001b[0;31mSyntaxError\u001b[0m\u001b[0;31m:\u001b[0m invalid syntax\n"
          ]
        }
      ]
    },
    {
      "cell_type": "code",
      "source": [
        "# TODO: Você recebeu uma lista com os nomes de 5 datasets que precisa analisar esta semana.\n",
        "# Crie uma lista com os nomes fictícios e use um for + range para imprimir:\n",
        "\n",
        "# \"Dataset 1: vendas_janeiro.csv\"\n",
        "# \"Dataset 2: clientes.csv\"\n",
        "# ...\n",
        "\n",
        "datasets = ##TODO: Crie uma lista com nomes de arquivos\n",
        "\n",
        "for i in ##TODO:\n",
        "    print(f\"Dataset {i + 1}: {datasets[i]}\")\n"
      ],
      "metadata": {
        "colab": {
          "base_uri": "https://localhost:8080/",
          "height": 106
        },
        "id": "oTBy2znixdFJ",
        "outputId": "1aa21947-4e87-4119-dc32-2d2f1ad7680c"
      },
      "execution_count": null,
      "outputs": [
        {
          "output_type": "error",
          "ename": "SyntaxError",
          "evalue": "invalid syntax (ipython-input-1794666036.py, line 8)",
          "traceback": [
            "\u001b[0;36m  File \u001b[0;32m\"/tmp/ipython-input-1794666036.py\"\u001b[0;36m, line \u001b[0;32m8\u001b[0m\n\u001b[0;31m    datasets = ##TODO: Crie uma lista com nomes de arquivos\u001b[0m\n\u001b[0m               ^\u001b[0m\n\u001b[0;31mSyntaxError\u001b[0m\u001b[0;31m:\u001b[0m invalid syntax\n"
          ]
        }
      ]
    },
    {
      "cell_type": "code",
      "source": [
        "# TODO: Você está testando uma função que acessa uma API.\n",
        "# O sistema tenta a conexão até conseguir sucesso (simulado aqui).\n",
        "\n",
        "# Suponha que a variável \"sucesso\" só seja True na 3ª tentativa.\n",
        "\n",
        "tentativas = 0\n",
        "sucesso = False\n",
        "\n",
        "while ##TODO: condição de loop\n",
        "    tentativas += 1\n",
        "    print(f\"Tentativa {tentativas} de conexão com a API...\")\n",
        "\n",
        "    if tentativas == 3:\n",
        "        ##TODO: atualize sucesso para True\n",
        "        print(\"Conexão bem-sucedida!\\n\")\n"
      ],
      "metadata": {
        "colab": {
          "base_uri": "https://localhost:8080/",
          "height": 106
        },
        "id": "x38tsyanxgCj",
        "outputId": "6cf06b74-fd19-4a21-f3b4-a2cc4a89c051"
      },
      "execution_count": null,
      "outputs": [
        {
          "output_type": "error",
          "ename": "SyntaxError",
          "evalue": "invalid syntax (ipython-input-1169683387.py, line 9)",
          "traceback": [
            "\u001b[0;36m  File \u001b[0;32m\"/tmp/ipython-input-1169683387.py\"\u001b[0;36m, line \u001b[0;32m9\u001b[0m\n\u001b[0;31m    while ##TODO: condição de loop\u001b[0m\n\u001b[0m          ^\u001b[0m\n\u001b[0;31mSyntaxError\u001b[0m\u001b[0;31m:\u001b[0m invalid syntax\n"
          ]
        }
      ]
    },
    {
      "cell_type": "code",
      "source": [
        "# TODO: Crie uma classe chamada Analista com atributos: nome, setor e projetos\n",
        "# e um método chamado apresentar() que imprime uma saudação com nome e setor\n",
        "# Crie também um método adicionar_projeto() que adiciona um projeto à lista de projetos\n",
        "\n",
        "class Analista:\n",
        "    ##TODO: construtor e métodos\n",
        "\n",
        "# TODO: Crie um objeto da classe com seus dados\n",
        "##TODO: Ex: a = Analista(\"Joana\", \"Dados\", [])\n",
        "\n",
        "# TODO: Use os métodos apresentar() e adicionar_projeto()\n",
        "##TODO: Adicione pelo menos dois projetos\n"
      ],
      "metadata": {
        "colab": {
          "base_uri": "https://localhost:8080/",
          "height": 106
        },
        "id": "84sVvAwCxjIm",
        "outputId": "5e6aeb09-1325-4bfa-8e8a-df832c7c7a21"
      },
      "execution_count": null,
      "outputs": [
        {
          "output_type": "error",
          "ename": "SyntaxError",
          "evalue": "incomplete input (ipython-input-1347812661.py, line 12)",
          "traceback": [
            "\u001b[0;36m  File \u001b[0;32m\"/tmp/ipython-input-1347812661.py\"\u001b[0;36m, line \u001b[0;32m12\u001b[0m\n\u001b[0;31m    ##TODO: Adicione pelo menos dois projetos\u001b[0m\n\u001b[0m                                             ^\u001b[0m\n\u001b[0;31mSyntaxError\u001b[0m\u001b[0;31m:\u001b[0m incomplete input\n"
          ]
        }
      ]
    },
    {
      "cell_type": "markdown",
      "source": [
        "### Dificil"
      ],
      "metadata": {
        "id": "Ly_h2kqIxm_q"
      }
    },
    {
      "cell_type": "code",
      "source": [
        "# TODO: Importe as bibliotecas necessárias\n",
        "## Ex: import cv2, import matplotlib.pyplot as plt\n",
        "\n",
        "##TODO: importações aqui\n",
        "\n",
        "# TODO: Carregue a imagem 'amostra.jpg' usando o OpenCV\n",
        "imagem = ##TODO: usar cv2.imread\n",
        "\n",
        "# TODO: Converta a imagem de BGR para RGB para exibição correta no matplotlib\n",
        "imagem_rgb = ##TODO: usar cv2.cvtColor\n",
        "\n",
        "# Exiba a imagem\n",
        "plt.imshow(imagem_rgb)\n",
        "plt.title(\"Imagem carregada\")\n",
        "plt.axis(\"off\")\n",
        "plt.show()\n"
      ],
      "metadata": {
        "colab": {
          "base_uri": "https://localhost:8080/",
          "height": 106
        },
        "id": "kzJRfdRixmRw",
        "outputId": "dc60c042-6fed-4a50-eb5b-9956d6ca398b"
      },
      "execution_count": null,
      "outputs": [
        {
          "output_type": "error",
          "ename": "SyntaxError",
          "evalue": "invalid syntax (ipython-input-4037217407.py, line 7)",
          "traceback": [
            "\u001b[0;36m  File \u001b[0;32m\"/tmp/ipython-input-4037217407.py\"\u001b[0;36m, line \u001b[0;32m7\u001b[0m\n\u001b[0;31m    imagem = ##TODO: usar cv2.imread\u001b[0m\n\u001b[0m             ^\u001b[0m\n\u001b[0;31mSyntaxError\u001b[0m\u001b[0;31m:\u001b[0m invalid syntax\n"
          ]
        }
      ]
    },
    {
      "cell_type": "code",
      "source": [
        "# TODO: Crie variáveis para altura e largura da imagem\n",
        "\n",
        "altura = ##TODO: pegue a altura da imagem\n",
        "largura = ##TODO: pegue a largura da imagem\n",
        "\n",
        "print(f\"A imagem tem {altura} pixels de altura e {largura} de largura\")\n",
        "\n",
        "# TODO: Verifique se a imagem está em RGB ou escala de cinza com if\n",
        "## DICA: imagem_rgb.shape retorna (altura, largura, canais)\n",
        "\n",
        "if ##TODO: verifique se o número de canais é 3\n",
        "    print(\"Imagem em RGB\")\n",
        "else:\n",
        "    print(\"Imagem em escala de cinza\")\n"
      ],
      "metadata": {
        "colab": {
          "base_uri": "https://localhost:8080/",
          "height": 106
        },
        "id": "9sa_Nj07xqxD",
        "outputId": "079f046e-2371-47cd-bd48-ae372f1e0cf9"
      },
      "execution_count": null,
      "outputs": [
        {
          "output_type": "error",
          "ename": "SyntaxError",
          "evalue": "invalid syntax (ipython-input-2338611611.py, line 3)",
          "traceback": [
            "\u001b[0;36m  File \u001b[0;32m\"/tmp/ipython-input-2338611611.py\"\u001b[0;36m, line \u001b[0;32m3\u001b[0m\n\u001b[0;31m    altura = ##TODO: pegue a altura da imagem\u001b[0m\n\u001b[0m             ^\u001b[0m\n\u001b[0;31mSyntaxError\u001b[0m\u001b[0;31m:\u001b[0m invalid syntax\n"
          ]
        }
      ]
    },
    {
      "cell_type": "code",
      "source": [
        "# TODO: Calcule a média dos valores vermelhos da imagem\n",
        "\n",
        "soma_vermelho = 0\n",
        "contador = 0\n",
        "\n",
        "for i in range(0, altura, 10):  # amostragem de 10 em 10 para não ficar pesado\n",
        "    for j in range(0, largura, 10):\n",
        "        pixel = imagem_rgb[i][j]\n",
        "        vermelho = pixel[0]  # canal vermelho\n",
        "\n",
        "        soma_vermelho += vermelho\n",
        "        contador += 1\n",
        "\n",
        "media_vermelho = soma_vermelho / contador\n",
        "print(f\"Média do canal vermelho (amostragem): {media_vermelho:.2f}\")\n"
      ],
      "metadata": {
        "colab": {
          "base_uri": "https://localhost:8080/",
          "height": 211
        },
        "id": "eMpNL-sSxsuu",
        "outputId": "905873ed-a7ea-4d25-dee4-3c0c94b36923"
      },
      "execution_count": null,
      "outputs": [
        {
          "output_type": "error",
          "ename": "NameError",
          "evalue": "name 'altura' is not defined",
          "traceback": [
            "\u001b[0;31m---------------------------------------------------------------------------\u001b[0m",
            "\u001b[0;31mNameError\u001b[0m                                 Traceback (most recent call last)",
            "\u001b[0;32m/tmp/ipython-input-910111438.py\u001b[0m in \u001b[0;36m<cell line: 0>\u001b[0;34m()\u001b[0m\n\u001b[1;32m      4\u001b[0m \u001b[0mcontador\u001b[0m \u001b[0;34m=\u001b[0m \u001b[0;36m0\u001b[0m\u001b[0;34m\u001b[0m\u001b[0;34m\u001b[0m\u001b[0m\n\u001b[1;32m      5\u001b[0m \u001b[0;34m\u001b[0m\u001b[0m\n\u001b[0;32m----> 6\u001b[0;31m \u001b[0;32mfor\u001b[0m \u001b[0mi\u001b[0m \u001b[0;32min\u001b[0m \u001b[0mrange\u001b[0m\u001b[0;34m(\u001b[0m\u001b[0;36m0\u001b[0m\u001b[0;34m,\u001b[0m \u001b[0maltura\u001b[0m\u001b[0;34m,\u001b[0m \u001b[0;36m10\u001b[0m\u001b[0;34m)\u001b[0m\u001b[0;34m:\u001b[0m  \u001b[0;31m# amostragem de 10 em 10 para não ficar pesado\u001b[0m\u001b[0;34m\u001b[0m\u001b[0;34m\u001b[0m\u001b[0m\n\u001b[0m\u001b[1;32m      7\u001b[0m     \u001b[0;32mfor\u001b[0m \u001b[0mj\u001b[0m \u001b[0;32min\u001b[0m \u001b[0mrange\u001b[0m\u001b[0;34m(\u001b[0m\u001b[0;36m0\u001b[0m\u001b[0;34m,\u001b[0m \u001b[0mlargura\u001b[0m\u001b[0;34m,\u001b[0m \u001b[0;36m10\u001b[0m\u001b[0;34m)\u001b[0m\u001b[0;34m:\u001b[0m\u001b[0;34m\u001b[0m\u001b[0;34m\u001b[0m\u001b[0m\n\u001b[1;32m      8\u001b[0m         \u001b[0mpixel\u001b[0m \u001b[0;34m=\u001b[0m \u001b[0mimagem_rgb\u001b[0m\u001b[0;34m[\u001b[0m\u001b[0mi\u001b[0m\u001b[0;34m]\u001b[0m\u001b[0;34m[\u001b[0m\u001b[0mj\u001b[0m\u001b[0;34m]\u001b[0m\u001b[0;34m\u001b[0m\u001b[0;34m\u001b[0m\u001b[0m\n",
            "\u001b[0;31mNameError\u001b[0m: name 'altura' is not defined"
          ]
        }
      ]
    },
    {
      "cell_type": "code",
      "source": [
        "# TODO: Suponha que queremos continuar tentando processar a imagem até que ela tenha mais de 300 pixels de altura\n",
        "\n",
        "tentativas = 0\n",
        "\n",
        "while ##TODO: condição baseada na altura\n",
        "    print(f\"Tentativa {tentativas + 1}: imagem com altura {altura}\")\n",
        "    tentativas += 1\n",
        "\n",
        "    # Simulação de redimensionamento (a altura aumenta)\n",
        "    altura += 50\n",
        "\n",
        "print(\"Altura adequada alcançada. Continuando processamento...\")\n"
      ],
      "metadata": {
        "colab": {
          "base_uri": "https://localhost:8080/",
          "height": 106
        },
        "id": "t799nk62xucy",
        "outputId": "5ebda68e-2275-4e37-afb1-96e2dc9cfeaa"
      },
      "execution_count": null,
      "outputs": [
        {
          "output_type": "error",
          "ename": "SyntaxError",
          "evalue": "invalid syntax (ipython-input-1142020875.py, line 5)",
          "traceback": [
            "\u001b[0;36m  File \u001b[0;32m\"/tmp/ipython-input-1142020875.py\"\u001b[0;36m, line \u001b[0;32m5\u001b[0m\n\u001b[0;31m    while ##TODO: condição baseada na altura\u001b[0m\n\u001b[0m          ^\u001b[0m\n\u001b[0;31mSyntaxError\u001b[0m\u001b[0;31m:\u001b[0m invalid syntax\n"
          ]
        }
      ]
    },
    {
      "cell_type": "code",
      "source": [
        "# TODO: Crie uma classe chamada AnalisadorDeImagem com os atributos: nome_da_imagem, largura, altura\n",
        "# Ela deve ter um método chamado resumo() que imprime essas informações\n",
        "# E um método avaliar_dimensao() que imprime:\n",
        "#   - \"Imagem pequena\" se largura < 300\n",
        "#   - \"Imagem média\" se entre 300 e 800\n",
        "#   - \"Imagem grande\" se > 800\n",
        "\n",
        "class AnalisadorDeImagem:\n",
        "    ##TODO: completar o construtor e os métodos\n",
        "\n",
        "# TODO: Crie um objeto da classe com os dados da imagem\n",
        "##TODO: Ex: img = AnalisadorDeImagem(\"amostra.jpg\", largura, altura)\n",
        "\n",
        "# TODO: Use os métodos resumo() e avaliar_dimensao()\n"
      ],
      "metadata": {
        "colab": {
          "base_uri": "https://localhost:8080/",
          "height": 106
        },
        "id": "RXTvVDGkxw-A",
        "outputId": "d69d11ed-b0e7-468d-a9a1-b52330abd0f2"
      },
      "execution_count": null,
      "outputs": [
        {
          "output_type": "error",
          "ename": "SyntaxError",
          "evalue": "incomplete input (ipython-input-1416510495.py, line 14)",
          "traceback": [
            "\u001b[0;36m  File \u001b[0;32m\"/tmp/ipython-input-1416510495.py\"\u001b[0;36m, line \u001b[0;32m14\u001b[0m\n\u001b[0;31m    # TODO: Use os métodos resumo() e avaliar_dimensao()\u001b[0m\n\u001b[0m                                                        ^\u001b[0m\n\u001b[0;31mSyntaxError\u001b[0m\u001b[0;31m:\u001b[0m incomplete input\n"
          ]
        }
      ]
    },
    {
      "cell_type": "code",
      "source": [],
      "metadata": {
        "id": "Fqfc_o31x0WG"
      },
      "execution_count": null,
      "outputs": []
    }
  ]
}